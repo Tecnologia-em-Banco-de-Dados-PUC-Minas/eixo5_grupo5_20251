{
 "cells": [
  {
   "cell_type": "code",
   "execution_count": 7,
   "metadata": {},
   "outputs": [],
   "source": [
    "import os\n",
    "import torch\n",
    "from torchvision import datasets, transforms\n",
    "from torch.utils.data import DataLoader"
   ]
  },
  {
   "cell_type": "code",
   "execution_count": 12,
   "metadata": {},
   "outputs": [
    {
     "name": "stdout",
     "output_type": "stream",
     "text": [
      "Classes: ['glioma', 'meningioma', 'notumor', 'pituitary']\n"
     ]
    }
   ],
   "source": [
    "# Parâmetros\n",
    "BATCH_SIZE = 32\n",
    "IMAGE_SIZE = 224  # Redefinindo tamanho da imagem para o padrão de redes convulacionais (CNNs)\n",
    "DATA_DIR = '/Users/rafaelmacedo/Documents/Code/eixo5_grupo5_20251/projeto/data'  # Path to your dataset folder\n",
    "TRAIN_FOLDER = \"Training\"\n",
    "TEST_FOLDER = \"Testing\"\n",
    "\n",
    "# Transformações e enriquecimento de dados\n",
    "train_transforms = transforms.Compose([\n",
    "    # Converte imagens preto e branco para os canais RGB (vermelho, verde e azul). \n",
    "    # Isto é necessário pois as redes convulacionais esperam esses canais como input.\n",
    "    transforms.Grayscale(num_output_channels=3),\n",
    "\n",
    "    # Fixa as dimensões da imagem.\n",
    "    transforms.Resize((IMAGE_SIZE, IMAGE_SIZE)),\n",
    "    \n",
    "    # Espelha a imagem para esquerda ou direita aleatoriamente\n",
    "    transforms.RandomHorizontalFlip(),\n",
    "\n",
    "    # Rotaciona a imagem em +- 10 graus aleatoriamente\n",
    "    transforms.RandomRotation(10),\n",
    "\n",
    "    # Converte para a estrutura de dados do PyTorch (tensor)\n",
    "    transforms.ToTensor(),\n",
    "\n",
    "    # Esta transformada consiste em escalonar os píxeis para média centrada no 0 e variância unitária.\n",
    "    # Utiliza-se a média para cada canal de cor (vermelho, verde e azul).\n",
    "    # Os valores de média e desvio-padrão são usados com base no projeto ImageNet.\n",
    "    transforms.Normalize([0.485, 0.456, 0.406],  # ImageNet mean\n",
    "                         [0.229, 0.224, 0.225])  # ImageNet std\n",
    "])\n",
    "\n",
    "test_transforms = transforms.Compose([\n",
    "    transforms.Grayscale(num_output_channels=3),\n",
    "    transforms.Resize((IMAGE_SIZE, IMAGE_SIZE)),\n",
    "    transforms.ToTensor(),\n",
    "    transforms.Normalize([0.485, 0.456, 0.406],\n",
    "                         [0.229, 0.224, 0.225])\n",
    "])\n",
    "\n",
    "# Datasets\n",
    "train_dataset = datasets.ImageFolder(os.path.join(DATA_DIR, TRAIN_FOLDER), transform=train_transforms)\n",
    "test_dataset = datasets.ImageFolder(os.path.join(DATA_DIR, TEST_FOLDER), transform=test_transforms)\n",
    "\n",
    "# Dataloaders\n",
    "train_loader = DataLoader(train_dataset, batch_size=BATCH_SIZE, shuffle=True, num_workers=4)\n",
    "test_loader = DataLoader(test_dataset, batch_size=BATCH_SIZE, shuffle=False, num_workers=4)\n",
    "\n",
    "# Nome das classes\n",
    "class_names = train_dataset.classes\n",
    "print(f\"Classes: {class_names}\")\n"
   ]
  },
  {
   "cell_type": "code",
   "execution_count": 13,
   "metadata": {},
   "outputs": [
    {
     "data": {
      "text/plain": [
       "Dataset ImageFolder\n",
       "    Number of datapoints: 5712\n",
       "    Root location: /Users/rafaelmacedo/Documents/Code/eixo5_grupo5_20251/projeto/data/Training\n",
       "    StandardTransform\n",
       "Transform: Compose(\n",
       "               Grayscale(num_output_channels=3)\n",
       "               Resize(size=(224, 224), interpolation=bilinear, max_size=None, antialias=True)\n",
       "               RandomHorizontalFlip(p=0.5)\n",
       "               RandomRotation(degrees=[-10.0, 10.0], interpolation=nearest, expand=False, fill=0)\n",
       "               ToTensor()\n",
       "               Normalize(mean=[0.485, 0.456, 0.406], std=[0.229, 0.224, 0.225])\n",
       "           )"
      ]
     },
     "execution_count": 13,
     "metadata": {},
     "output_type": "execute_result"
    }
   ],
   "source": [
    "train_dataset"
   ]
  }
 ],
 "metadata": {
  "kernelspec": {
   "display_name": "deep_brain",
   "language": "python",
   "name": "python3"
  },
  "language_info": {
   "codemirror_mode": {
    "name": "ipython",
    "version": 3
   },
   "file_extension": ".py",
   "mimetype": "text/x-python",
   "name": "python",
   "nbconvert_exporter": "python",
   "pygments_lexer": "ipython3",
   "version": "3.11.11"
  }
 },
 "nbformat": 4,
 "nbformat_minor": 2
}
